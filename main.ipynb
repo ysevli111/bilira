{
 "cells": [
  {
   "cell_type": "code",
   "execution_count": 19,
   "id": "8f06b868-0955-4189-bdab-4ace5027c363",
   "metadata": {},
   "outputs": [
    {
     "name": "stdout",
     "output_type": "stream",
     "text": [
      "\n"
     ]
    },
    {
     "data": {
      "text/plain": [
       "{'total': '42234.771199999996',\n",
       " 'price': '42234.771199999996',\n",
       " 'currency': 'USDT'}"
      ]
     },
     "execution_count": 19,
     "metadata": {},
     "output_type": "execute_result"
    }
   ],
   "source": [
    "request_json = {'action' : \"buy\",\n",
    "               \"base_currency\" : \"BTC\",\n",
    "               \"quote_currency\" : \"USDT\",\n",
    "               \"amount\" : 1.000}\n",
    "\n",
    "import ftxlib\n",
    "ftxlib.app.MarketOrder(request_json)"
   ]
  },
  {
   "cell_type": "code",
   "execution_count": 20,
   "id": "291ddd7c-8e2d-492d-a059-50b29587834b",
   "metadata": {},
   "outputs": [
    {
     "name": "stdout",
     "output_type": "stream",
     "text": [
      "\n"
     ]
    },
    {
     "data": {
      "text/plain": [
       "{'total': '163853.3512', 'price': '42231.33359107194', 'currency': 'USDT'}"
      ]
     },
     "execution_count": 20,
     "metadata": {},
     "output_type": "execute_result"
    }
   ],
   "source": [
    "request_json = {'action' : \"sell\",\n",
    "               \"base_currency\" : \"BTC\",\n",
    "               \"quote_currency\" : \"USDT\",\n",
    "               \"amount\" : 10.0000}\n",
    "\n",
    "import ftxlib\n",
    "ftxlib.app.MarketOrder(request_json)"
   ]
  },
  {
   "cell_type": "code",
   "execution_count": 21,
   "id": "49fadcb5-5289-418f-880a-ad21a803c53b",
   "metadata": {},
   "outputs": [
    {
     "name": "stdout",
     "output_type": "stream",
     "text": [
      "\n"
     ]
    },
    {
     "data": {
      "text/plain": [
       "{'total': '0.02368321333838575',\n",
       " 'price': '2.3683213338385752e-05',\n",
       " 'currency': 'BTC'}"
      ]
     },
     "execution_count": 21,
     "metadata": {},
     "output_type": "execute_result"
    }
   ],
   "source": [
    "request_json = {'action' : \"buy\",\n",
    "               \"base_currency\" : \"USDT\",\n",
    "               \"quote_currency\" : \"BTC\",\n",
    "               \"amount\" : 1000.000}\n",
    "\n",
    "import ftxlib\n",
    "ftxlib.app.MarketOrder(request_json)"
   ]
  },
  {
   "cell_type": "code",
   "execution_count": null,
   "id": "fa2f2747-a46a-4850-b1f8-5d31425254d6",
   "metadata": {},
   "outputs": [],
   "source": []
  },
  {
   "cell_type": "code",
   "execution_count": null,
   "id": "dfba507e-a4b9-4ff0-beda-571289e72639",
   "metadata": {},
   "outputs": [],
   "source": []
  },
  {
   "cell_type": "code",
   "execution_count": null,
   "id": "a01e0aa2-6f2c-4584-a65c-b15a6f6e2bb8",
   "metadata": {},
   "outputs": [],
   "source": []
  }
 ],
 "metadata": {
  "kernelspec": {
   "display_name": "Python 3",
   "language": "python",
   "name": "python3"
  },
  "language_info": {
   "codemirror_mode": {
    "name": "ipython",
    "version": 3
   },
   "file_extension": ".py",
   "mimetype": "text/x-python",
   "name": "python",
   "nbconvert_exporter": "python",
   "pygments_lexer": "ipython3",
   "version": "3.8.8"
  }
 },
 "nbformat": 4,
 "nbformat_minor": 5
}
